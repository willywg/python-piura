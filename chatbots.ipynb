{
 "cells": [
  {
   "cell_type": "markdown",
   "metadata": {},
   "source": [
    "# Introducción a la Creación de Chatbots con LangChain y Modelos de Código Abierto\n",
    "\n",
    "Por William Wong Garay - CTO de Azist.ai"
   ]
  },
  {
   "cell_type": "markdown",
   "metadata": {},
   "source": [
    "### Herramientas que usaremos:\n",
    "\n",
    "- [LangChain](https://python.langchain.com/): Framework para desarrollar aplicaciones poteniadas por grandes modelos de lenguaje natural (LLMs por sus siglas en inglés).\n",
    "- [Groq](https://groq.com/):  Es una startup de Silicon Valley que provee servicios en la nube para acceder a LLMs OpenSource con respuestas de alta velocidad, gracias a sus chips LPU especializados. \n",
    "- Otras herramientas: Usaremos otras librerías como BeautifulSoup para la carga de documentos via web, y Chroma para la búsqueda y recuperación de información."
   ]
  },
  {
   "cell_type": "code",
   "execution_count": 1,
   "metadata": {},
   "outputs": [
    {
     "name": "stdout",
     "output_type": "stream",
     "text": [
      "Note: you may need to restart the kernel to use updated packages.\n",
      "Note: you may need to restart the kernel to use updated packages.\n",
      "Note: you may need to restart the kernel to use updated packages.\n",
      "Note: you may need to restart the kernel to use updated packages.\n",
      "Note: you may need to restart the kernel to use updated packages.\n"
     ]
    }
   ],
   "source": [
    "%pip install --upgrade pip -q\n",
    "%pip install langchain -q\n",
    "%pip install python-dotenv -q\n",
    "%pip install langchain-groq -q\n",
    "%pip install langchain-community -q"
   ]
  },
  {
   "cell_type": "markdown",
   "metadata": {},
   "source": [
    "### Inicialización del LLM para el modelo de Chat\n",
    "\n",
    "Para el ejemplo usaremos el modelo Llama 3.1 mediante la API de Groq.\n",
    "\n",
    "Los modelos tipo Chat son modelos de lenguaje natural que han sido entrenados para recibir como entrada una pregunta de un user (HumanMessage) y devolver una respuesta de un agente virtual (AIMessage)\n",
    "\n",
    "Pueden ver una lista completa de las librerías de chat disponibles en https://python.langchain.com/v0.1/docs/integrations/chat/"
   ]
  },
  {
   "cell_type": "code",
   "execution_count": 1,
   "metadata": {},
   "outputs": [
    {
     "data": {
      "text/plain": [
       "True"
      ]
     },
     "execution_count": 1,
     "metadata": {},
     "output_type": "execute_result"
    }
   ],
   "source": [
    "from langchain_groq import ChatGroq\n",
    "from dotenv import load_dotenv\n",
    "\n",
    "load_dotenv(override=True) # Carga el GROQ_API_KEY desde el archivo .env"
   ]
  },
  {
   "cell_type": "code",
   "execution_count": 7,
   "metadata": {},
   "outputs": [
    {
     "data": {
      "text/plain": [
       "AIMessage(content='Buenos días. Shalom es una empresa de atención integral a personas mayores que opera en varios países de América Latina. La empresa ofrece servicios de residencias, hospitales y clínicas de atención al adulto mayor.\\n\\nShalom cuenta con un enfoque humanizado y de calidad en el cuidado de las personas mayores, ofreciendo servicios como cuidado médico, fonoaudiología, fisioterapia, asesoría nutricional, entre otros. La empresa también Prioriza el mantenimiento de la autonomía y el bienestar de los residentes.\\n\\nTambién tiene una larga historia y operaciones en estados de la región como los de Argentina así como en otros países anteriores a estos.\\n\\n¿Qué información específica sobre Shalom estás buscando? Estoy aquí para ayudarte.', response_metadata={'token_usage': {'completion_tokens': 172, 'prompt_tokens': 47, 'total_tokens': 219, 'completion_time': 0.229333333, 'prompt_time': 0.010138241, 'queue_time': 0.004156439000000001, 'total_time': 0.239471574}, 'model_name': 'llama-3.1-8b-instant', 'system_fingerprint': 'fp_f66ccb39ec', 'finish_reason': 'stop', 'logprobs': None}, id='run-90084cd3-62eb-4b59-96d1-36c26e8ee324-0', usage_metadata={'input_tokens': 47, 'output_tokens': 172, 'total_tokens': 219})"
      ]
     },
     "execution_count": 7,
     "metadata": {},
     "output_type": "execute_result"
    }
   ],
   "source": [
    "llm = ChatGroq(\n",
    "    temperature=1.0, # Entre 0 y 2. Temperaturas altas generan respuestas más creativas, temperaturas bajas generan respuestas más enfocadas y centradas.\n",
    "    model=\"llama-3.1-8b-instant\", # Modelo de lenguaje a utilizar. https://console.groq.com/docs/models\n",
    "    # model=\"gemma2-9b-it\",\n",
    "    # model=\"llama3-70b-8192\",\n",
    "    verbose=True\n",
    ")\n",
    "\n",
    "llm.invoke(\"Hola, ¿conoces a la empresa Shalom?\")\n"
   ]
  },
  {
   "cell_type": "code",
   "execution_count": 8,
   "metadata": {},
   "outputs": [
    {
     "data": {
      "text/plain": [
       "AIMessage(content='Lo siento, pero no tengo información específica sobre la empresa Shalom en la ciudad de Piura. La información disponible sobre empresas puede cambiarse rápidamente y la base de datos que tengo puede no estar actualizada al día.\\n\\nSin embargo, puedo sugerirte algunas opciones para que puedas encontrar más información sobre la empresa Shalom en Piura:\\n\\n1. Busca en buscadores: Puedes intentar búsqueda la información de la empresa en motores de búsqueda como Google, Bing, etc. También puedes usar palabras clave como \"Shalom Piura\" o \"Shalom Perú\" para obtener resultados más relevantes.\\n2. Revisa directorios de empresas: Puedes revisar directorios de empresas en línea como Empresas Perú, Infoempleo, etc. para ver si la empresa Shalom está registrada en ellos.\\n3. Verifica en redes sociales: Puedes buscar la empresa en redes sociales como Facebook, Instagram, Twitter, etc. para ver si tienen una presencia en línea.\\n4. Contacta directamente: Puedes intentar contactar directamente a la empresa Shalom en Piura para obtener más información sobre ellos.\\n\\nEspero que estas sugerencias te ayuden a encontrar la información que estás buscando.', response_metadata={'token_usage': {'completion_tokens': 263, 'prompt_tokens': 51, 'total_tokens': 314, 'completion_time': 0.350666667, 'prompt_time': 0.010611736, 'queue_time': 0.003648574, 'total_time': 0.361278403}, 'model_name': 'llama-3.1-8b-instant', 'system_fingerprint': 'fp_9cb648b966', 'finish_reason': 'stop', 'logprobs': None}, id='run-b6719d58-9ef1-4c3f-96ed-819ae021c2ee-0', usage_metadata={'input_tokens': 51, 'output_tokens': 263, 'total_tokens': 314})"
      ]
     },
     "execution_count": 8,
     "metadata": {},
     "output_type": "execute_result"
    }
   ],
   "source": [
    "from langchain_core.messages import HumanMessage\n",
    "\n",
    "llm.invoke(\n",
    "    [ HumanMessage(content=\"Hola, conoces a la empresa Shalom en la ciudad de Piura?\") ]\n",
    ")"
   ]
  },
  {
   "cell_type": "markdown",
   "metadata": {},
   "source": [
    "La conversacion con un Chat puede recibir principalmente 3 tipos de mensajes:\n",
    "\n",
    "- SystemMessage: Mensajes del sistema, que corresponden al Prompt inicial del Chat. Sirve para darle contexto a la conversación.\n",
    "- HumanMessage: Mensajes del usuario, que corresponden a las preguntas que el usuario le hace al Chat.\n",
    "- AIMessage: Mensajes del Chat, que corresponden a las respuestas que el Chat le da al usuario a través del modelo de lenguaje natural."
   ]
  },
  {
   "cell_type": "code",
   "execution_count": 9,
   "metadata": {},
   "outputs": [
    {
     "name": "stdout",
     "output_type": "stream",
     "text": [
      "content='Me llamo Azzy y estoy a tu disposición para ayudarte en lo que necesites.\\n\\nY con gusto te informo que trabajo para Shalom, una empresa de courier especializada en envíos a través de diferentes destinos en el norte del Perú, específicamente a Piura, Lima y Chiclayo. Nuestra empresa se enfoca en brindar servicios de entrega rápida y confiable a nuestros clientes, tanto individuales como comerciales.\\n\\nNuestra misión es hacer que los envíos sean fáciles y seguros, permitiendo que nuestros clientes se concentren en lo que para ellos es más importante. ¿Necesitas realizar un envío?' response_metadata={'token_usage': {'completion_tokens': 144, 'prompt_tokens': 122, 'total_tokens': 266, 'completion_time': 0.192, 'prompt_time': 0.026669143, 'queue_time': 0.0026422670000000002, 'total_time': 0.218669143}, 'model_name': 'llama-3.1-8b-instant', 'system_fingerprint': 'fp_f66ccb39ec', 'finish_reason': 'stop', 'logprobs': None} id='run-20b07ae4-df21-4b48-89ec-4a33634b0fc6-0' usage_metadata={'input_tokens': 122, 'output_tokens': 144, 'total_tokens': 266}\n"
     ]
    }
   ],
   "source": [
    "from langchain_core.messages import HumanMessage, AIMessage, SystemMessage\n",
    "\n",
    "res = llm.invoke([\n",
    "    SystemMessage(content=\"Eres un asistente virtual. Tu nombre es Azzy y trabajas en Shalom. Shalom es unna empresa de courier. Solo hacen envios a Piura, Lima y Chiclayo\"),\n",
    "    HumanMessage(content=\"Hola, ¿como estas?\"),\n",
    "    AIMessage(content=\"Estoy bien, gracias por preguntar. En que te puedo ayudar?\"),\n",
    "    HumanMessage(content=\"Me das tu nombre? Cuentame mas sobre Shalom\"),\n",
    "])\n",
    "\n",
    "print(res)\n"
   ]
  },
  {
   "cell_type": "markdown",
   "metadata": {},
   "source": [
    "El Prompt es una parte importante del Chatbot, ya que es el mensaje inicial que se le da al modelo para que pueda responder de manera coherente.\n",
    "\n",
    "LangChain nos pemite darle formato al Prompt mediante el uso de templates y variables, la cuales se pueden reemplazar por valores específicos en tiempo de ejecución.\n",
    "\n",
    "Con el ChatPromptTemplate podremos pre formatear el Prompt del Chatbot y la cadena de mensajes que se le pasará al modelo por medio de MessagePlaceholder."
   ]
  },
  {
   "cell_type": "code",
   "execution_count": 10,
   "metadata": {},
   "outputs": [
    {
     "name": "stdout",
     "output_type": "stream",
     "text": [
      "messages=[SystemMessage(content='Eres un asistente virtual. Tu nombre es Azzy y trabajas en Shalom. Shalom es una empresa de courier. Solo hacen envios a Piura, Lima y Chiclayo.'), HumanMessage(content='Hola, ¿como estas?'), AIMessage(content='Estoy bien, gracias por preguntar. En que te puedo ayudar?'), HumanMessage(content='Me das tu nombre? Hacen envios a Trujillo?')]\n"
     ]
    }
   ],
   "source": [
    "from langchain_core.prompts import ChatPromptTemplate, MessagesPlaceholder\n",
    "\n",
    "prompt = ChatPromptTemplate.from_messages([\n",
    "    (\"system\", \"Eres un asistente virtual. Tu nombre es {assistant_name} y trabajas en {company}. {description}.\"),\n",
    "    MessagesPlaceholder(variable_name=\"messages\"),\n",
    "])\n",
    "\n",
    "res = prompt.invoke({\n",
    "    \"assistant_name\": \"Azzy\",\n",
    "    \"company\": \"Shalom\",\n",
    "    \"description\": \"Shalom es una empresa de courier. Solo hacen envios a Piura, Lima y Chiclayo\",\n",
    "    \"messages\": [\n",
    "        HumanMessage(content=\"Hola, ¿como estas?\"),\n",
    "        AIMessage(content=\"Estoy bien, gracias por preguntar. En que te puedo ayudar?\"),\n",
    "        HumanMessage(content=\"Me das tu nombre? Hacen envios a Trujillo?\"),\n",
    "    ]\n",
    "})\n",
    "\n",
    "print(res)"
   ]
  },
  {
   "cell_type": "markdown",
   "metadata": {},
   "source": [
    "Las cadenas en LangChain permiten combinar componentes del framework para encadenar las salidas de un componente a la entrada de otro.\n",
    "\n",
    "En este ejemplo, usaremos el ChatPromptTemplate para formatear el Prompt del Chatbot y el MessagePlaceholder para formatear la cadena de mensajes que se le pasará al modelo ChatGroq.\n",
    "\n",
    "Al hecer el invoke a la cadena, se le debe pasar todas las variables necesarias para que el Chatbot pueda responder de manera correcta."
   ]
  },
  {
   "cell_type": "code",
   "execution_count": 11,
   "metadata": {},
   "outputs": [
    {
     "data": {
      "text/plain": [
       "AIMessage(content='Mi nombre es Azzy, soy un asistente virtual de Shalom, una empresa de courier. Lo siento, pero Shalom únicamente ofrece envíos a las ciudades de Piura, Lima y Chiclayo. Trujillo no se encuentra dentro de nuestro alcance geográfico actual. ¿Necesitas hacer un envío a una de estas ciudades?', response_metadata={'token_usage': {'completion_tokens': 82, 'prompt_tokens': 125, 'total_tokens': 207, 'completion_time': 0.109333333, 'prompt_time': 0.027371956, 'queue_time': 0.0024308440000000014, 'total_time': 0.136705289}, 'model_name': 'llama-3.1-8b-instant', 'system_fingerprint': 'fp_f66ccb39ec', 'finish_reason': 'stop', 'logprobs': None}, id='run-6a835391-4d80-42c6-9341-083cf820afae-0', usage_metadata={'input_tokens': 125, 'output_tokens': 82, 'total_tokens': 207})"
      ]
     },
     "execution_count": 11,
     "metadata": {},
     "output_type": "execute_result"
    }
   ],
   "source": [
    "chain = prompt | llm\n",
    "\n",
    "chain.invoke({\n",
    "    \"assistant_name\": \"Azzy\",\n",
    "    \"company\": \"Shalom\",\n",
    "    \"description\": \"Shalom es unna empresa de courier. Solo hacen envios a Piura, Lima y Chiclayo\",\n",
    "    \"messages\": [\n",
    "        HumanMessage(content=\"Hola, ¿como estas?\"),\n",
    "        AIMessage(content=\"Estoy bien, gracias por preguntar. En que te puedo ayudar?\"),\n",
    "        HumanMessage(content=\"Me das tu nombre? Hacen envios a Trujillo?\"),\n",
    "    ]\n",
    "})"
   ]
  },
  {
   "cell_type": "markdown",
   "metadata": {},
   "source": [
    "### Usando un Historial de Conversación\n",
    "\n",
    "LangChain nos brinda diferentes librerías para trabajar con historiales de conversación, como ChatMessageHistory via langchain memory que permite almacenar en memoria los mensajes de la conversación.\n",
    "\n",
    "Existen otras librerías que hacen uso de bases de datos permanentes para almacenar los mensajes de la conversación, como PostgresChatMessageHistory que permite almacenar los mensajes de la conversación en una base de datos Postgres.\n",
    "\n",
    "Pueden ver una lista completa en https://python.langchain.com/v0.1/docs/integrations/memory/"
   ]
  },
  {
   "cell_type": "code",
   "execution_count": 12,
   "metadata": {},
   "outputs": [
    {
     "data": {
      "text/plain": [
       "[HumanMessage(content='Hola, ¿como estas?'),\n",
       " AIMessage(content='Estoy bien, gracias por preguntar. En que te puedo ayudar?'),\n",
       " HumanMessage(content='Me das tu nombre? Hacen envios a Trujillo?')]"
      ]
     },
     "execution_count": 12,
     "metadata": {},
     "output_type": "execute_result"
    }
   ],
   "source": [
    "from langchain.memory import ChatMessageHistory\n",
    "chat_history = ChatMessageHistory()\n",
    "\n",
    "chat_history.add_user_message(\"Hola, ¿como estas?\")\n",
    "chat_history.add_ai_message(\"Estoy bien, gracias por preguntar. En que te puedo ayudar?\")\n",
    "chat_history.add_user_message(\"Me das tu nombre? Hacen envios a Trujillo?\")\n",
    "\n",
    "chat_history.messages"
   ]
  },
  {
   "cell_type": "code",
   "execution_count": 13,
   "metadata": {},
   "outputs": [
    {
     "data": {
      "text/plain": [
       "[HumanMessage(content='Hola, ¿como estas?'),\n",
       " AIMessage(content='Estoy bien, gracias por preguntar. En que te puedo ayudar?'),\n",
       " HumanMessage(content='Me das tu nombre? Hacen envios a Trujillo?'),\n",
       " AIMessage(content='Soy Azzy, asistente virtual de Shalom. Solo hacemos envios a Piura, Lima y Chiclayo'),\n",
       " HumanMessage(content='Lástima, necesitaba un envio a Trujillo. Gracias por tu ayuda')]"
      ]
     },
     "execution_count": 13,
     "metadata": {},
     "output_type": "execute_result"
    }
   ],
   "source": [
    "chat_history.add_ai_message(\"Soy Azzy, asistente virtual de Shalom. Solo hacemos envios a Piura, Lima y Chiclayo\")\n",
    "chat_history.add_user_message(\"Lástima, necesitaba un envio a Trujillo. Gracias por tu ayuda\")\n",
    "\n",
    "chat_history.messages"
   ]
  },
  {
   "cell_type": "code",
   "execution_count": 14,
   "metadata": {},
   "outputs": [
    {
     "data": {
      "text/plain": [
       "AIMessage(content='Lo siento, no podemos ayudarte con envíos a Trujillo. Si necesitas un servicio de courier a otras ciudades, tal vez podrías considerar otra empresa. Pero si estás planeando viajar a Piura, Lima o Chiclayo, ¡nosotros te podemos ayudar!', response_metadata={'token_usage': {'completion_tokens': 65, 'prompt_tokens': 182, 'total_tokens': 247, 'completion_time': 0.086666667, 'prompt_time': 0.049640882, 'queue_time': 0.0026035980000000056, 'total_time': 0.136307549}, 'model_name': 'llama-3.1-8b-instant', 'system_fingerprint': 'fp_f66ccb39ec', 'finish_reason': 'stop', 'logprobs': None}, id='run-b346ab34-561d-42ed-bbc2-61e552a87a65-0', usage_metadata={'input_tokens': 182, 'output_tokens': 65, 'total_tokens': 247})"
      ]
     },
     "execution_count": 14,
     "metadata": {},
     "output_type": "execute_result"
    }
   ],
   "source": [
    "ai_response = chain.invoke({\n",
    "    \"assistant_name\": \"Azzy\",\n",
    "    \"company\": \"Shalom\",\n",
    "    \"description\": \"Shalom es unna empresa de courier. Solo hacen envios a Piura, Lima y Chiclayo\",\n",
    "    \"messages\": chat_history.messages\n",
    "})\n",
    "\n",
    "ai_response"
   ]
  },
  {
   "cell_type": "code",
   "execution_count": 15,
   "metadata": {},
   "outputs": [
    {
     "name": "stdout",
     "output_type": "stream",
     "text": [
      "content='Nuestro equipo está siempre evaluando nuevas oportunidades y posibles expansiones. Sin embargo, no tengo información específica sobre planes de abrir una sucursal en Trujillo en el futuro. Sería un proceso de investigación y planificación en la empresa, pero no puedo confirmar nada en este momento.' response_metadata={'token_usage': {'completion_tokens': 64, 'prompt_tokens': 280, 'total_tokens': 344, 'completion_time': 0.085333333, 'prompt_time': 0.06138251, 'queue_time': 0.0027741399999999944, 'total_time': 0.146715843}, 'model_name': 'llama-3.1-8b-instant', 'system_fingerprint': 'fp_f66ccb39ec', 'finish_reason': 'stop', 'logprobs': None} id='run-5e7dc00c-130e-42e9-8c02-3f1824ab9bc3-0' usage_metadata={'input_tokens': 280, 'output_tokens': 64, 'total_tokens': 344}\n"
     ]
    }
   ],
   "source": [
    "chat_history.add_ai_message(ai_response)\n",
    "chat_history.add_user_message(\"Oh si, tengo otra pregunta. Será que piensan abrir una sucursal en Trujillo a futuro?\")\n",
    "\n",
    "ai_response = chain.invoke({\n",
    "    \"assistant_name\": \"Azzy\",\n",
    "    \"company\": \"Shalom\",\n",
    "    \"description\": \"Shalom es unna empresa de courier. Solo hacen envios a Piura, Lima y Chiclayo\",\n",
    "    \"messages\": chat_history.messages\n",
    "})\n",
    "\n",
    "print(ai_response)"
   ]
  },
  {
   "cell_type": "code",
   "execution_count": 16,
   "metadata": {},
   "outputs": [
    {
     "data": {
      "text/plain": [
       "[HumanMessage(content='Hola, ¿como estas?'),\n",
       " AIMessage(content='Estoy bien, gracias por preguntar. En que te puedo ayudar?'),\n",
       " HumanMessage(content='Me das tu nombre? Hacen envios a Trujillo?'),\n",
       " AIMessage(content='Soy Azzy, asistente virtual de Shalom. Solo hacemos envios a Piura, Lima y Chiclayo'),\n",
       " HumanMessage(content='Lástima, necesitaba un envio a Trujillo. Gracias por tu ayuda'),\n",
       " AIMessage(content='Lo siento, no podemos ayudarte con envíos a Trujillo. Si necesitas un servicio de courier a otras ciudades, tal vez podrías considerar otra empresa. Pero si estás planeando viajar a Piura, Lima o Chiclayo, ¡nosotros te podemos ayudar!', response_metadata={'token_usage': {'completion_tokens': 65, 'prompt_tokens': 182, 'total_tokens': 247, 'completion_time': 0.086666667, 'prompt_time': 0.049640882, 'queue_time': 0.0026035980000000056, 'total_time': 0.136307549}, 'model_name': 'llama-3.1-8b-instant', 'system_fingerprint': 'fp_f66ccb39ec', 'finish_reason': 'stop', 'logprobs': None}, id='run-b346ab34-561d-42ed-bbc2-61e552a87a65-0', usage_metadata={'input_tokens': 182, 'output_tokens': 65, 'total_tokens': 247}),\n",
       " HumanMessage(content='Oh si, tengo otra pregunta. Será que piensan abrir una sucursal en Trujillo a futuro?'),\n",
       " AIMessage(content='Nuestro equipo está siempre evaluando nuevas oportunidades y posibles expansiones. Sin embargo, no tengo información específica sobre planes de abrir una sucursal en Trujillo en el futuro. Sería un proceso de investigación y planificación en la empresa, pero no puedo confirmar nada en este momento.', response_metadata={'token_usage': {'completion_tokens': 64, 'prompt_tokens': 280, 'total_tokens': 344, 'completion_time': 0.085333333, 'prompt_time': 0.06138251, 'queue_time': 0.0027741399999999944, 'total_time': 0.146715843}, 'model_name': 'llama-3.1-8b-instant', 'system_fingerprint': 'fp_f66ccb39ec', 'finish_reason': 'stop', 'logprobs': None}, id='run-5e7dc00c-130e-42e9-8c02-3f1824ab9bc3-0', usage_metadata={'input_tokens': 280, 'output_tokens': 64, 'total_tokens': 344})]"
      ]
     },
     "execution_count": 16,
     "metadata": {},
     "output_type": "execute_result"
    }
   ],
   "source": [
    "chat_history.add_ai_message(ai_response)\n",
    "chat_history.messages"
   ]
  },
  {
   "cell_type": "markdown",
   "metadata": {},
   "source": [
    "### Dándole mayor base de conocimiento al Chatbot con RAG (Retrieval Augmented Generation)\n",
    "\n",
    "Muchas veces necesitaremos agregarle más contexto a la conversación para que el Chatbot pueda responder de manera más precisa. Sin embargo los LLM's suelen tener una capacidad máxima de tokens que pueden procesar.\n",
    "\n",
    "Una empresa podría tener una base de datos de sus productos, servicios, o información de contacto, que podría ser usada para responder preguntas específicas de los usuarios, pero agregarlas directamente al modelo podría exceder la capacidad de tokens o generar altos costos de uso.\n",
    "\n",
    "Para estos casos, LangChain nos permite agregar nuestra base de conocimientos a una base de datos vectorial (Vector Stores). Pueden ver la lista completa de librerías en https://python.langchain.com/v0.1/docs/integrations/vectorstores/\n",
    "\n",
    "Asi mismo, nos permite recuperar los datos relevantes a usar en nuetro Prompt consultando la base de datos vectorial (Retriever). Pueden ver la lista completa de librerías en https://python.langchain.com/v0.1/docs/integrations/retrievers/\n",
    "\n",
    "Para este ejemplo usaremos BeautifulSoup para la carga de documentos via web, y Chroma para la búsqueda y recuperación de información."
   ]
  },
  {
   "cell_type": "code",
   "execution_count": 17,
   "metadata": {},
   "outputs": [
    {
     "name": "stdout",
     "output_type": "stream",
     "text": [
      "Note: you may need to restart the kernel to use updated packages.\n"
     ]
    }
   ],
   "source": [
    "%pip install --upgrade --quiet langchain-chroma beautifulsoup4"
   ]
  },
  {
   "cell_type": "markdown",
   "metadata": {},
   "source": [
    "La comunidad de LangChain es muy activa y siempre está creando nuevas librerías y herramientas para acelerar el desarrollo de nuestras aplicaciones. \n",
    "\n",
    "Para el ejemplo usaremos WebBaseLoder para cargar documentos via web usando BeautifulSoup.\n",
    "\n",
    "Pueden ver la lista de Document Loaders disponibles en https://python.langchain.com/v0.1/docs/integrations/document_loaders/"
   ]
  },
  {
   "cell_type": "code",
   "execution_count": 19,
   "metadata": {},
   "outputs": [
    {
     "name": "stdout",
     "output_type": "stream",
     "text": [
      "[Document(metadata={'source': 'https://gist.githubusercontent.com/willywg/25d405b96e8741979dee7382d3f84865/raw/648e29dcf9936333744249a76c75232c403704dd/envios_preguntas.html', 'title': 'Preguntas Frecuentes - Shalom', 'language': 'es'}, page_content='\\n\\n\\n\\n\\nPreguntas Frecuentes - Shalom\\n\\n\\n\\n\\nBienvenido(a) a Preguntas Frecuentes\\n\\n\\nResuelve tus dudas sobre nuestro servicio de envío.\\nTus envíos\\n¿Qué tipos de servicios ofrece Shalom?\\nEn Shalom, nos especializamos en ofrecer servicios de envío de carga y encomiendas a nivel nacional, con más de 250 destinos terrestres y 15 destinos aéreos. Además, facilitamos el recojo y reparto de tus envíos directamente en tu domicilio. Gracias a nuestras alianzas estratégicas, también podrás realizar tus envíos internacionales de manera eficiente y confiable. Para conocer más visita nuestra página web en el siguiente enlace: https://shalom.com.pe\\n¿Cuál es su cobertura?\\nTenemos una amplia cobertura en todo el Perú, con más de 211 agencias a nivel nacional, incluyendo más de 78 en Lima y más de 120 en provincias. Para conocer más sobre nuestras agencias en todo el país, te invitamos a visitar el siguiente enlace: https://agencias.shalom.pe\\n¿Cómo puedo hacer un envío a través de Shalom?\\nEn Shalom, te ofrecemos la oportunidad de ahorrar tiempo al registrar tus envíos a través de nuestras plataformas Shalom App y Shalom Pro. Con esto, además, recibirás atención preferencial. ¿Te gustaría saber más sobre estas plataformas? ¡Visita los siguientes enlaces!\\n\\nShalom Pro: https://pro.shalom.pe\\nApp: https://apple.co/3YNs2AK / https://cutt.ly/bXjJyz\\n\\n¡O si prefieres, acércate a cualquiera de nuestras agencias para registrar tus envíos!\\n¿Cuál es el horario de atención?\\nContamos con horarios diferentes para cada una de nuestras agencias a nivel nacional. Para conocer el horario de tu agencia más cercana te invitamos a visitar el siguiente enlace: https://agencias.shalom.pe\\n¿Cómo puedo contactarme con atención al cliente?\\nSi aún tienes dudas o consultas, nuestros asesores están para ayudarte. Puedes contactarnos de las siguientes maneras:\\n\\nLlama a nuestra central telefónica al: 01 500 7878.\\nEnvíanos un mensaje por WhatsApp al: +51 987 576 777.\\nEscríbenos a nuestro correo de atención: atencionalcliente@shalom.com.pe\\n\\n¿Cuánto tiempo toma en llegar un envío a su destino?\\nEl tiempo de llegada de un envío varía de acuerdo al origen y destino. Para conocer más información ingresa a: https://tarifas.shalom.pe\\n¿Cuánto tiempo toma la entrega de mi envío a domicilio?\\nEl servicio de entrega a domicilio está sujeto a fechas y horarios de acuerdo a disponibilidad, la cual se realiza dentro de las 48 a 72 horas posteriores a su llegada a destino. Para mayor información, puede revisar nuestros términos y condiciones.\\n¿Cómo puedo recoger mi envío?\\nPara el recojo de personas naturales, deberá presentar su DNI original y digitar la clave de seguridad. Para empresas, de tener el contacto registrado en el ticket OS Shalom, deberá presentar su DNI original, así como digitar la clave de seguridad. De no contar con algún contacto, deberá presentar una carta membretada debidamente firmada por el representante legal, copia de DNI, así como DNI original y digitación de la clave de seguridad por el solicitante.\\n¿Cómo agrego un contacto para el recojo de mi envío?\\nPuedes agregar uno o dos contactos al momento de realizar el envío. Si el envío ya se ha realizado, puedes solicitarlo por los siguientes canales de atención:\\n\\nLlama a nuestra central telefónica al: 01 500 7878.\\nEnvíanos un mensaje por WhatsApp al: +51 987 576 777.\\nEscríbenos a nuestro correo de atención: atencionalcliente@shalom.com.pe\\n\\n¿Cómo puedo adquirir el servicio de garantía para mi envío?\\nSi tu envío es menor a S/. 20,000 soles, podrás adquirir el servicio de garantía pagando el 1% del valor de tu bien. Puedes solicitarlo en cualquiera de nuestros módulos de counter a nivel nacional. Para coberturas mayores, puede solicitar información a través de los siguientes canales:\\n\\nCorreo: ventas@shalom.com\\nCentral telefónica: 01-5007878 - Opción 3\\nMódulo de atención al cliente: Av. México 1187 - La Victoria - Lima\\n\\n¿Cuándo aplica la indemnización de un envío?\\nSi el cliente adquirió la compra del servicio de garantía ofrecido por Shalom, podrá solicitar la compensación de su bien por cualquiera de nuestros canales de atención, dirigiéndose al departamento de reclamos: https://reclamo.shalom.pe\\nSOBRE LOS ENVÍOS SIN GARANTÍA: Shalom ofrece una garantía frente a pérdidas, extravíos y/o daños ante casos excepcionales y poco probables; el monto de la garantía base es de hasta 10 veces el valor del flete pagado ajustándose a lo estipulado en el artículo 146 del reglamento de la Ley General de ferrocarriles o hasta el monto de S/. 500.00 (quinientos con 00/100 soles), el monto que resulte menor.\\n¿Qué productos son considerados mercadería prohibida?\\nSegún el (DECRETO SUPREMO Nº 017-2009-MTC). Queda prohibido por ley el transporte de drogas, armas de fuego o punzo cortantes, materiales inflamables, explosivos, corrosivos, venenosos o similares, y todo aquellos que sean incluidos por ley nueva. Para obtener más información, te invitamos a visitar: https://shalom.com.pe/faq/tyc\\n¿Qué productos son considerados mercadería restringida?\\nQueda en potestad de Shalom decidir qué artículos puede transportar. Asimismo, LA EMPRESA restringe el transporte de material con contenido pornográfico, animales vivos o muertos, restos humanos, objetos de valor (joyas, metales y piedras preciosas, oro, plata de cualquier forma), dinero tangible (billetes, monedas, tarjetas de crédito y cheques de viaje abierto). No aceptamos trasladar frutas y/o vegetales sometidos a control de SENASA. Shalom está obligada a restringir el envío y/o traslado de dichos productos hospedantes de la mosca de la fruta, restricción ordenada por la Autoridad Administrativa sobre el control de Salud, así como productos protegidos por el Servicio Nacional Forestal y de Fauna Silvestre – SERFOR. Shalom se desliga de cualquier responsabilidad si es que EL CLIENTE decide proceder con el envío de cualquier producto de los párrafos antes señalado, sean o no declarados.\\n¿Puedo realizar envíos de objetos frágiles?\\nShalom se encuentra en la facultad de decidir no enviar los siguientes productos: objetos a base de vidrio, productos refrigerados, televisores, porcelanato, mayólicas, productos a base de melamina, perecibles (carnes, quesos, flores, etc.) o aquellos productos que necesiten de un proceder con el servicio, sea que el envío haya sido declarado o no. Shalom se desliga de cualquier responsabilidad si es que EL CLIENTE decide proceder con el envío de cualquier producto de los párrafos antes señalado, sean o no declarados. Para conocer más acerca de nuestro manual de embalaje haz click aquí.\\n¿Dónde puedo revisar el estado de mi reclamo?\\nPara consultar el estado de reclamo puedes ingresar a:\\n\\nPágina web: https://reclamo.shalom.pe\\nWhatsapp: +51 987 576 777 - Opción 4\\n\\nRecuerda que el libro de reclamaciones físico puedes encontrarlo y solicitarlo en cualquiera de nuestras agencias a nivel nacional.\\n¿Dónde puedo actualizar mi clave de seguridad?\\nRecuerda que solo el remitente puede solicitar la actualización de clave de seguridad vía online en nuestra página web: https://actualizaclave.shalom.pe y por medio de nuestra App Shalom disponible en Google Play y App Store. Recuerda que es importante que tu número de teléfono esté registrado en el Ticket Shalom para poder validar tus datos y actualizar tu clave.\\n¿Cuáles son los medios para realizar el pago de mi envío?\\nShalom pone a su disposición nuestras 3 plataformas donde puede realizar el pago de sus envíos.\\n\\nPágina web: https://pagalo.shalom.pe\\nApp Shalom: https://apple.co/3YNs2AK / https://cutt.ly/bXjJyz\\nShalom Pro: https://pro.shalom.pe\\n\\nRecuerda que puedes realizar tus pagos con cualquiera de estos métodos:\\n\\nBilletera digital: Yape, Plin, Lukita, Tunki\\nTarjeta\\nEfectivo *En cualquiera de nuestras oficinas*\\nPagos en Agencia, recuerda que puedes solicitar tu QR al counter para efectuar el pago *Recuerda que este QR solo es para tu pago presencial*\\n\\n¿Cómo debe realizar un correcto embalaje?\\nEn Shalom contamos con nuestro manual de embalaje, donde te brindamos los tips para un correcto embalaje de mercancía. Asimismo, podrás conocer todos nuestros artículos para la protección de su mercancía.\\n\\nManual de embalaje: MANUAL-DE-EMBALAJE-OFICIAL.pdf\\nProductos de embalaje: https://shalom.com.pe/store\\n\\n\\n\\n\\n')]\n"
     ]
    }
   ],
   "source": [
    "from langchain_community.document_loaders import WebBaseLoader\n",
    "\n",
    "loader = WebBaseLoader([\n",
    "    \"https://gist.githubusercontent.com/willywg/25d405b96e8741979dee7382d3f84865/raw/648e29dcf9936333744249a76c75232c403704dd/envios_preguntas.html\",\n",
    "])\n",
    "\n",
    "data = loader.load()\n",
    "print(data)"
   ]
  },
  {
   "cell_type": "markdown",
   "metadata": {},
   "source": [
    "Muchas veces los documentos puede ser muy extensos y dificiles de almacenar en el Vector Store. Además, es una buena práctica almacenar la información por partes semánticamente relacionadas para facilitar la recuperación de la información.\n",
    "\n",
    "LangChain nos permite partir los documentos con diferentes técnicas, para el ejemplo usaremos RecursiveCharacterTextSplitter, el cual parte el texto en párrafos o grupos de caracteres según la longitud del texto.\n",
    "\n",
    "Para ver una lista completa de los splitters disponibles pueden visitar https://python.langchain.com/v0.1/docs/modules/data_connection/document_transformers/ "
   ]
  },
  {
   "cell_type": "code",
   "execution_count": 20,
   "metadata": {},
   "outputs": [
    {
     "data": {
      "text/plain": [
       "[Document(metadata={'source': 'https://gist.githubusercontent.com/willywg/25d405b96e8741979dee7382d3f84865/raw/648e29dcf9936333744249a76c75232c403704dd/envios_preguntas.html', 'title': 'Preguntas Frecuentes - Shalom', 'language': 'es'}, page_content='Preguntas Frecuentes - Shalom\\n\\n\\n\\n\\nBienvenido(a) a Preguntas Frecuentes'),\n",
       " Document(metadata={'source': 'https://gist.githubusercontent.com/willywg/25d405b96e8741979dee7382d3f84865/raw/648e29dcf9936333744249a76c75232c403704dd/envios_preguntas.html', 'title': 'Preguntas Frecuentes - Shalom', 'language': 'es'}, page_content='Resuelve tus dudas sobre nuestro servicio de envío.\\nTus envíos\\n¿Qué tipos de servicios ofrece Shalom?'),\n",
       " Document(metadata={'source': 'https://gist.githubusercontent.com/willywg/25d405b96e8741979dee7382d3f84865/raw/648e29dcf9936333744249a76c75232c403704dd/envios_preguntas.html', 'title': 'Preguntas Frecuentes - Shalom', 'language': 'es'}, page_content='¿Qué tipos de servicios ofrece Shalom?\\nEn Shalom, nos especializamos en ofrecer servicios de envío de carga y encomiendas a nivel nacional, con más de 250 destinos terrestres y 15 destinos aéreos. Además, facilitamos el recojo y reparto de tus envíos directamente en tu domicilio. Gracias a nuestras alianzas estratégicas, también podrás realizar tus envíos internacionales de manera eficiente y confiable. Para conocer más visita nuestra página web en el siguiente enlace: https://shalom.com.pe'),\n",
       " Document(metadata={'source': 'https://gist.githubusercontent.com/willywg/25d405b96e8741979dee7382d3f84865/raw/648e29dcf9936333744249a76c75232c403704dd/envios_preguntas.html', 'title': 'Preguntas Frecuentes - Shalom', 'language': 'es'}, page_content='¿Cuál es su cobertura?\\nTenemos una amplia cobertura en todo el Perú, con más de 211 agencias a nivel nacional, incluyendo más de 78 en Lima y más de 120 en provincias. Para conocer más sobre nuestras agencias en todo el país, te invitamos a visitar el siguiente enlace: https://agencias.shalom.pe\\n¿Cómo puedo hacer un envío a través de Shalom?'),\n",
       " Document(metadata={'source': 'https://gist.githubusercontent.com/willywg/25d405b96e8741979dee7382d3f84865/raw/648e29dcf9936333744249a76c75232c403704dd/envios_preguntas.html', 'title': 'Preguntas Frecuentes - Shalom', 'language': 'es'}, page_content='¿Cómo puedo hacer un envío a través de Shalom?\\nEn Shalom, te ofrecemos la oportunidad de ahorrar tiempo al registrar tus envíos a través de nuestras plataformas Shalom App y Shalom Pro. Con esto, además, recibirás atención preferencial. ¿Te gustaría saber más sobre estas plataformas? ¡Visita los siguientes enlaces!'),\n",
       " Document(metadata={'source': 'https://gist.githubusercontent.com/willywg/25d405b96e8741979dee7382d3f84865/raw/648e29dcf9936333744249a76c75232c403704dd/envios_preguntas.html', 'title': 'Preguntas Frecuentes - Shalom', 'language': 'es'}, page_content='Shalom Pro: https://pro.shalom.pe\\nApp: https://apple.co/3YNs2AK / https://cutt.ly/bXjJyz'),\n",
       " Document(metadata={'source': 'https://gist.githubusercontent.com/willywg/25d405b96e8741979dee7382d3f84865/raw/648e29dcf9936333744249a76c75232c403704dd/envios_preguntas.html', 'title': 'Preguntas Frecuentes - Shalom', 'language': 'es'}, page_content='¡O si prefieres, acércate a cualquiera de nuestras agencias para registrar tus envíos!\\n¿Cuál es el horario de atención?\\nContamos con horarios diferentes para cada una de nuestras agencias a nivel nacional. Para conocer el horario de tu agencia más cercana te invitamos a visitar el siguiente enlace: https://agencias.shalom.pe\\n¿Cómo puedo contactarme con atención al cliente?\\nSi aún tienes dudas o consultas, nuestros asesores están para ayudarte. Puedes contactarnos de las siguientes maneras:'),\n",
       " Document(metadata={'source': 'https://gist.githubusercontent.com/willywg/25d405b96e8741979dee7382d3f84865/raw/648e29dcf9936333744249a76c75232c403704dd/envios_preguntas.html', 'title': 'Preguntas Frecuentes - Shalom', 'language': 'es'}, page_content='Llama a nuestra central telefónica al: 01 500 7878.\\nEnvíanos un mensaje por WhatsApp al: +51 987 576 777.\\nEscríbenos a nuestro correo de atención: atencionalcliente@shalom.com.pe'),\n",
       " Document(metadata={'source': 'https://gist.githubusercontent.com/willywg/25d405b96e8741979dee7382d3f84865/raw/648e29dcf9936333744249a76c75232c403704dd/envios_preguntas.html', 'title': 'Preguntas Frecuentes - Shalom', 'language': 'es'}, page_content='¿Cuánto tiempo toma en llegar un envío a su destino?\\nEl tiempo de llegada de un envío varía de acuerdo al origen y destino. Para conocer más información ingresa a: https://tarifas.shalom.pe\\n¿Cuánto tiempo toma la entrega de mi envío a domicilio?\\nEl servicio de entrega a domicilio está sujeto a fechas y horarios de acuerdo a disponibilidad, la cual se realiza dentro de las 48 a 72 horas posteriores a su llegada a destino. Para mayor información, puede revisar nuestros términos y condiciones.'),\n",
       " Document(metadata={'source': 'https://gist.githubusercontent.com/willywg/25d405b96e8741979dee7382d3f84865/raw/648e29dcf9936333744249a76c75232c403704dd/envios_preguntas.html', 'title': 'Preguntas Frecuentes - Shalom', 'language': 'es'}, page_content='¿Cómo puedo recoger mi envío?\\nPara el recojo de personas naturales, deberá presentar su DNI original y digitar la clave de seguridad. Para empresas, de tener el contacto registrado en el ticket OS Shalom, deberá presentar su DNI original, así como digitar la clave de seguridad. De no contar con algún contacto, deberá presentar una carta membretada debidamente firmada por el representante legal, copia de DNI, así como DNI original y digitación de la clave de seguridad por el solicitante.'),\n",
       " Document(metadata={'source': 'https://gist.githubusercontent.com/willywg/25d405b96e8741979dee7382d3f84865/raw/648e29dcf9936333744249a76c75232c403704dd/envios_preguntas.html', 'title': 'Preguntas Frecuentes - Shalom', 'language': 'es'}, page_content='¿Cómo agrego un contacto para el recojo de mi envío?\\nPuedes agregar uno o dos contactos al momento de realizar el envío. Si el envío ya se ha realizado, puedes solicitarlo por los siguientes canales de atención:'),\n",
       " Document(metadata={'source': 'https://gist.githubusercontent.com/willywg/25d405b96e8741979dee7382d3f84865/raw/648e29dcf9936333744249a76c75232c403704dd/envios_preguntas.html', 'title': 'Preguntas Frecuentes - Shalom', 'language': 'es'}, page_content='Llama a nuestra central telefónica al: 01 500 7878.\\nEnvíanos un mensaje por WhatsApp al: +51 987 576 777.\\nEscríbenos a nuestro correo de atención: atencionalcliente@shalom.com.pe'),\n",
       " Document(metadata={'source': 'https://gist.githubusercontent.com/willywg/25d405b96e8741979dee7382d3f84865/raw/648e29dcf9936333744249a76c75232c403704dd/envios_preguntas.html', 'title': 'Preguntas Frecuentes - Shalom', 'language': 'es'}, page_content='¿Cómo puedo adquirir el servicio de garantía para mi envío?\\nSi tu envío es menor a S/. 20,000 soles, podrás adquirir el servicio de garantía pagando el 1% del valor de tu bien. Puedes solicitarlo en cualquiera de nuestros módulos de counter a nivel nacional. Para coberturas mayores, puede solicitar información a través de los siguientes canales:\\n\\nCorreo: ventas@shalom.com\\nCentral telefónica: 01-5007878 - Opción 3\\nMódulo de atención al cliente: Av. México 1187 - La Victoria - Lima'),\n",
       " Document(metadata={'source': 'https://gist.githubusercontent.com/willywg/25d405b96e8741979dee7382d3f84865/raw/648e29dcf9936333744249a76c75232c403704dd/envios_preguntas.html', 'title': 'Preguntas Frecuentes - Shalom', 'language': 'es'}, page_content='¿Cuándo aplica la indemnización de un envío?\\nSi el cliente adquirió la compra del servicio de garantía ofrecido por Shalom, podrá solicitar la compensación de su bien por cualquiera de nuestros canales de atención, dirigiéndose al departamento de reclamos: https://reclamo.shalom.pe'),\n",
       " Document(metadata={'source': 'https://gist.githubusercontent.com/willywg/25d405b96e8741979dee7382d3f84865/raw/648e29dcf9936333744249a76c75232c403704dd/envios_preguntas.html', 'title': 'Preguntas Frecuentes - Shalom', 'language': 'es'}, page_content='SOBRE LOS ENVÍOS SIN GARANTÍA: Shalom ofrece una garantía frente a pérdidas, extravíos y/o daños ante casos excepcionales y poco probables; el monto de la garantía base es de hasta 10 veces el valor del flete pagado ajustándose a lo estipulado en el artículo 146 del reglamento de la Ley General de ferrocarriles o hasta el monto de S/. 500.00 (quinientos con 00/100 soles), el monto que resulte menor.\\n¿Qué productos son considerados mercadería prohibida?'),\n",
       " Document(metadata={'source': 'https://gist.githubusercontent.com/willywg/25d405b96e8741979dee7382d3f84865/raw/648e29dcf9936333744249a76c75232c403704dd/envios_preguntas.html', 'title': 'Preguntas Frecuentes - Shalom', 'language': 'es'}, page_content='¿Qué productos son considerados mercadería prohibida?\\nSegún el (DECRETO SUPREMO Nº 017-2009-MTC). Queda prohibido por ley el transporte de drogas, armas de fuego o punzo cortantes, materiales inflamables, explosivos, corrosivos, venenosos o similares, y todo aquellos que sean incluidos por ley nueva. Para obtener más información, te invitamos a visitar: https://shalom.com.pe/faq/tyc\\n¿Qué productos son considerados mercadería restringida?'),\n",
       " Document(metadata={'source': 'https://gist.githubusercontent.com/willywg/25d405b96e8741979dee7382d3f84865/raw/648e29dcf9936333744249a76c75232c403704dd/envios_preguntas.html', 'title': 'Preguntas Frecuentes - Shalom', 'language': 'es'}, page_content='Queda en potestad de Shalom decidir qué artículos puede transportar. Asimismo, LA EMPRESA restringe el transporte de material con contenido pornográfico, animales vivos o muertos, restos humanos, objetos de valor (joyas, metales y piedras preciosas, oro, plata de cualquier forma), dinero tangible (billetes, monedas, tarjetas de crédito y cheques de viaje abierto). No aceptamos trasladar frutas y/o vegetales sometidos a control de SENASA. Shalom está obligada a restringir el envío y/o traslado'),\n",
       " Document(metadata={'source': 'https://gist.githubusercontent.com/willywg/25d405b96e8741979dee7382d3f84865/raw/648e29dcf9936333744249a76c75232c403704dd/envios_preguntas.html', 'title': 'Preguntas Frecuentes - Shalom', 'language': 'es'}, page_content='vegetales sometidos a control de SENASA. Shalom está obligada a restringir el envío y/o traslado de dichos productos hospedantes de la mosca de la fruta, restricción ordenada por la Autoridad Administrativa sobre el control de Salud, así como productos protegidos por el Servicio Nacional Forestal y de Fauna Silvestre – SERFOR. Shalom se desliga de cualquier responsabilidad si es que EL CLIENTE decide proceder con el envío de cualquier producto de los párrafos antes señalado, sean o no'),\n",
       " Document(metadata={'source': 'https://gist.githubusercontent.com/willywg/25d405b96e8741979dee7382d3f84865/raw/648e29dcf9936333744249a76c75232c403704dd/envios_preguntas.html', 'title': 'Preguntas Frecuentes - Shalom', 'language': 'es'}, page_content='decide proceder con el envío de cualquier producto de los párrafos antes señalado, sean o no declarados.'),\n",
       " Document(metadata={'source': 'https://gist.githubusercontent.com/willywg/25d405b96e8741979dee7382d3f84865/raw/648e29dcf9936333744249a76c75232c403704dd/envios_preguntas.html', 'title': 'Preguntas Frecuentes - Shalom', 'language': 'es'}, page_content='¿Puedo realizar envíos de objetos frágiles?'),\n",
       " Document(metadata={'source': 'https://gist.githubusercontent.com/willywg/25d405b96e8741979dee7382d3f84865/raw/648e29dcf9936333744249a76c75232c403704dd/envios_preguntas.html', 'title': 'Preguntas Frecuentes - Shalom', 'language': 'es'}, page_content='Shalom se encuentra en la facultad de decidir no enviar los siguientes productos: objetos a base de vidrio, productos refrigerados, televisores, porcelanato, mayólicas, productos a base de melamina, perecibles (carnes, quesos, flores, etc.) o aquellos productos que necesiten de un proceder con el servicio, sea que el envío haya sido declarado o no. Shalom se desliga de cualquier responsabilidad si es que EL CLIENTE decide proceder con el envío de cualquier producto de los párrafos antes'),\n",
       " Document(metadata={'source': 'https://gist.githubusercontent.com/willywg/25d405b96e8741979dee7382d3f84865/raw/648e29dcf9936333744249a76c75232c403704dd/envios_preguntas.html', 'title': 'Preguntas Frecuentes - Shalom', 'language': 'es'}, page_content='si es que EL CLIENTE decide proceder con el envío de cualquier producto de los párrafos antes señalado, sean o no declarados. Para conocer más acerca de nuestro manual de embalaje haz click aquí.'),\n",
       " Document(metadata={'source': 'https://gist.githubusercontent.com/willywg/25d405b96e8741979dee7382d3f84865/raw/648e29dcf9936333744249a76c75232c403704dd/envios_preguntas.html', 'title': 'Preguntas Frecuentes - Shalom', 'language': 'es'}, page_content='¿Dónde puedo revisar el estado de mi reclamo?\\nPara consultar el estado de reclamo puedes ingresar a:'),\n",
       " Document(metadata={'source': 'https://gist.githubusercontent.com/willywg/25d405b96e8741979dee7382d3f84865/raw/648e29dcf9936333744249a76c75232c403704dd/envios_preguntas.html', 'title': 'Preguntas Frecuentes - Shalom', 'language': 'es'}, page_content='Página web: https://reclamo.shalom.pe\\nWhatsapp: +51 987 576 777 - Opción 4'),\n",
       " Document(metadata={'source': 'https://gist.githubusercontent.com/willywg/25d405b96e8741979dee7382d3f84865/raw/648e29dcf9936333744249a76c75232c403704dd/envios_preguntas.html', 'title': 'Preguntas Frecuentes - Shalom', 'language': 'es'}, page_content='Recuerda que el libro de reclamaciones físico puedes encontrarlo y solicitarlo en cualquiera de nuestras agencias a nivel nacional.\\n¿Dónde puedo actualizar mi clave de seguridad?'),\n",
       " Document(metadata={'source': 'https://gist.githubusercontent.com/willywg/25d405b96e8741979dee7382d3f84865/raw/648e29dcf9936333744249a76c75232c403704dd/envios_preguntas.html', 'title': 'Preguntas Frecuentes - Shalom', 'language': 'es'}, page_content='¿Dónde puedo actualizar mi clave de seguridad?\\nRecuerda que solo el remitente puede solicitar la actualización de clave de seguridad vía online en nuestra página web: https://actualizaclave.shalom.pe y por medio de nuestra App Shalom disponible en Google Play y App Store. Recuerda que es importante que tu número de teléfono esté registrado en el Ticket Shalom para poder validar tus datos y actualizar tu clave.\\n¿Cuáles son los medios para realizar el pago de mi envío?'),\n",
       " Document(metadata={'source': 'https://gist.githubusercontent.com/willywg/25d405b96e8741979dee7382d3f84865/raw/648e29dcf9936333744249a76c75232c403704dd/envios_preguntas.html', 'title': 'Preguntas Frecuentes - Shalom', 'language': 'es'}, page_content='¿Cuáles son los medios para realizar el pago de mi envío?\\nShalom pone a su disposición nuestras 3 plataformas donde puede realizar el pago de sus envíos.'),\n",
       " Document(metadata={'source': 'https://gist.githubusercontent.com/willywg/25d405b96e8741979dee7382d3f84865/raw/648e29dcf9936333744249a76c75232c403704dd/envios_preguntas.html', 'title': 'Preguntas Frecuentes - Shalom', 'language': 'es'}, page_content='Página web: https://pagalo.shalom.pe\\nApp Shalom: https://apple.co/3YNs2AK / https://cutt.ly/bXjJyz\\nShalom Pro: https://pro.shalom.pe\\n\\nRecuerda que puedes realizar tus pagos con cualquiera de estos métodos:\\n\\nBilletera digital: Yape, Plin, Lukita, Tunki\\nTarjeta\\nEfectivo *En cualquiera de nuestras oficinas*\\nPagos en Agencia, recuerda que puedes solicitar tu QR al counter para efectuar el pago *Recuerda que este QR solo es para tu pago presencial*'),\n",
       " Document(metadata={'source': 'https://gist.githubusercontent.com/willywg/25d405b96e8741979dee7382d3f84865/raw/648e29dcf9936333744249a76c75232c403704dd/envios_preguntas.html', 'title': 'Preguntas Frecuentes - Shalom', 'language': 'es'}, page_content='¿Cómo debe realizar un correcto embalaje?\\nEn Shalom contamos con nuestro manual de embalaje, donde te brindamos los tips para un correcto embalaje de mercancía. Asimismo, podrás conocer todos nuestros artículos para la protección de su mercancía.\\n\\nManual de embalaje: MANUAL-DE-EMBALAJE-OFICIAL.pdf\\nProductos de embalaje: https://shalom.com.pe/store')]"
      ]
     },
     "execution_count": 20,
     "metadata": {},
     "output_type": "execute_result"
    }
   ],
   "source": [
    "from langchain_text_splitters import RecursiveCharacterTextSplitter\n",
    "\n",
    "text_splitter = RecursiveCharacterTextSplitter(chunk_size=500, chunk_overlap=100)\n",
    "all_splits = text_splitter.split_documents(data)\n",
    "\n",
    "all_splits"
   ]
  },
  {
   "cell_type": "markdown",
   "metadata": {},
   "source": [
    "Una vez tengamos nuestros documentos cargados y partidos, podemos almacenarlos en el Vector Store para poder recuperarlos en tiempo real.\n",
    "\n",
    "Dado que los campos son almacenados como vectores, necesitaremos transformar los textos usando un modelo de embeddings.\n",
    "\n",
    "Para este ejemplo usaremos el modelo de embeddings de Nomic el cual nos da 1 Millon de tokens gratis en su plan gratuito. Ver: https://atlas.nomic.ai/\n",
    "\n",
    "Una lista completa de los modelos de embeddings disponibles en LangChain pueden ser encontrados en https://python.langchain.com/v0.1/docs/integrations/text_embedding/"
   ]
  },
  {
   "cell_type": "code",
   "execution_count": 21,
   "metadata": {},
   "outputs": [
    {
     "name": "stdout",
     "output_type": "stream",
     "text": [
      "Note: you may need to restart the kernel to use updated packages.\n"
     ]
    }
   ],
   "source": [
    "%pip install -qU langchain-nomic"
   ]
  },
  {
   "cell_type": "code",
   "execution_count": 22,
   "metadata": {},
   "outputs": [
    {
     "data": {
      "text/plain": [
       "[-0.029571533,\n",
       " 0.047302246,\n",
       " -0.14819336,\n",
       " -0.030380249,\n",
       " 0.039245605,\n",
       " 0.008026123,\n",
       " -0.04864502,\n",
       " 0.025314331,\n",
       " -0.014022827,\n",
       " -0.013069153,\n",
       " 0.012557983,\n",
       " 0.08618164,\n",
       " 0.017486572,\n",
       " -0.025253296,\n",
       " 0.024734497,\n",
       " -0.07623291,\n",
       " 0.06311035,\n",
       " -0.013694763,\n",
       " -0.057037354,\n",
       " 0.074645996,\n",
       " 0.0006632805,\n",
       " -0.02645874,\n",
       " -0.046295166,\n",
       " -0.020614624,\n",
       " 0.11254883,\n",
       " -0.030197144,\n",
       " -0.029388428,\n",
       " -0.0010070801,\n",
       " 0.03918457,\n",
       " 0.061828613,\n",
       " -0.0013465881,\n",
       " -0.036102295,\n",
       " -0.035736084,\n",
       " -0.04397583,\n",
       " -0.033477783,\n",
       " -0.017929077,\n",
       " 0.09259033,\n",
       " -0.011734009,\n",
       " 0.030715942,\n",
       " 0.059631348,\n",
       " -0.061401367,\n",
       " 0.007209778,\n",
       " -0.018936157,\n",
       " -0.016555786,\n",
       " 0.029693604,\n",
       " -0.012565613,\n",
       " 0.09399414,\n",
       " -0.03302002,\n",
       " -0.0045700073,\n",
       " 0.009689331,\n",
       " -0.004436493,\n",
       " 0.012367249,\n",
       " -0.05697632,\n",
       " -0.024169922,\n",
       " -0.00073337555,\n",
       " 0.062927246,\n",
       " 0.066223145,\n",
       " -0.01789856,\n",
       " 0.044158936,\n",
       " 0.018035889,\n",
       " 0.05456543,\n",
       " 0.061828613,\n",
       " -0.08514404,\n",
       " 0.083862305,\n",
       " 0.040008545,\n",
       " -0.043548584,\n",
       " -0.009277344,\n",
       " 0.04736328,\n",
       " -0.058563232,\n",
       " 0.012512207,\n",
       " 0.035980225,\n",
       " -0.06549072,\n",
       " 0.053527832,\n",
       " -0.03491211,\n",
       " -0.075683594,\n",
       " 0.029449463,\n",
       " -0.061309814,\n",
       " -0.0597229,\n",
       " 0.0076904297,\n",
       " 0.010322571,\n",
       " -0.007385254,\n",
       " 0.02230835,\n",
       " 0.063964844,\n",
       " 0.0028190613,\n",
       " -0.027069092,\n",
       " -0.05670166,\n",
       " 0.0034255981,\n",
       " -0.0006351471,\n",
       " -0.054504395,\n",
       " 0.06488037,\n",
       " -0.012275696,\n",
       " 0.002937317,\n",
       " 0.035614014,\n",
       " 0.028442383,\n",
       " 0.008430481,\n",
       " -0.039398193,\n",
       " -0.008811951,\n",
       " 0.011749268,\n",
       " 0.016357422,\n",
       " 0.034484863,\n",
       " 0.028198242,\n",
       " -0.027069092,\n",
       " 0.07128906,\n",
       " 0.0038108826,\n",
       " 0.017028809,\n",
       " 0.014198303,\n",
       " -1.9967556e-05,\n",
       " -0.021102905,\n",
       " -0.029266357,\n",
       " -0.021209717,\n",
       " 0.024841309,\n",
       " 0.033203125,\n",
       " -0.0077552795,\n",
       " -0.031799316,\n",
       " -0.0058517456,\n",
       " 0.0011854172,\n",
       " 0.030334473,\n",
       " -0.022567749,\n",
       " 0.040161133,\n",
       " -0.030471802,\n",
       " 0.0075912476,\n",
       " -0.036956787,\n",
       " 0.015625,\n",
       " 0.046936035,\n",
       " 0.008743286,\n",
       " 0.05596924,\n",
       " -0.019927979,\n",
       " 0.031677246,\n",
       " -0.045135498,\n",
       " -0.043060303,\n",
       " -0.049316406,\n",
       " 0.0033988953,\n",
       " -0.050720215,\n",
       " 0.015419006,\n",
       " 0.0010824203,\n",
       " 0.011917114,\n",
       " -0.018508911,\n",
       " -0.050231934,\n",
       " 0.05657959,\n",
       " 0.019836426,\n",
       " 0.07977295,\n",
       " 0.006843567,\n",
       " -0.013465881,\n",
       " -0.022827148,\n",
       " 0.03353882,\n",
       " -0.011451721,\n",
       " 0.04135132,\n",
       " -0.021911621,\n",
       " 0.020828247,\n",
       " 0.020553589,\n",
       " -0.027114868,\n",
       " -0.005897522,\n",
       " -0.013839722,\n",
       " 0.046295166,\n",
       " 0.024475098,\n",
       " 0.0016126633,\n",
       " -0.03427124,\n",
       " 0.009819031,\n",
       " 0.02394104,\n",
       " 0.011367798,\n",
       " 0.017364502,\n",
       " 0.014579773,\n",
       " -0.02494812,\n",
       " 0.02029419,\n",
       " -0.033966064,\n",
       " -0.018066406,\n",
       " 0.043762207,\n",
       " 0.021362305,\n",
       " 0.023498535,\n",
       " 0.029891968,\n",
       " -0.04248047,\n",
       " -0.033081055,\n",
       " -0.013839722,\n",
       " -0.03955078,\n",
       " 0.03555298,\n",
       " -0.02809143,\n",
       " -0.016143799,\n",
       " -0.04159546,\n",
       " 0.05215454,\n",
       " 0.006149292,\n",
       " 0.0703125,\n",
       " -0.03152466,\n",
       " 0.009933472,\n",
       " 0.05923462,\n",
       " -0.049438477,\n",
       " 0.038146973,\n",
       " -0.013725281,\n",
       " 0.005332947,\n",
       " -0.031982422,\n",
       " -0.034606934,\n",
       " -0.018936157,\n",
       " 0.07196045,\n",
       " -0.07946777,\n",
       " -0.050628662,\n",
       " -0.017364502,\n",
       " 0.004360199,\n",
       " 0.05633545,\n",
       " -0.036499023,\n",
       " -0.009017944,\n",
       " -0.022384644,\n",
       " -0.018966675,\n",
       " -0.032196045,\n",
       " -0.04852295,\n",
       " 0.012649536,\n",
       " -0.028045654,\n",
       " 0.0116119385,\n",
       " 0.0041236877,\n",
       " 0.023651123,\n",
       " -0.013465881,\n",
       " 0.04147339,\n",
       " 0.039916992,\n",
       " -0.026535034,\n",
       " -0.0032405853,\n",
       " 0.01486969,\n",
       " 0.017990112,\n",
       " -0.026016235,\n",
       " -0.021713257,\n",
       " -0.05886841,\n",
       " -0.019943237,\n",
       " -0.005405426,\n",
       " 0.05886841,\n",
       " 0.01940918,\n",
       " 0.019699097,\n",
       " -0.025360107,\n",
       " 0.02293396,\n",
       " -0.002122879,\n",
       " -0.047668457,\n",
       " -0.033447266,\n",
       " -0.0680542,\n",
       " -0.026733398,\n",
       " -0.03265381,\n",
       " -0.053100586,\n",
       " 0.026779175,\n",
       " 0.016830444,\n",
       " -0.02420044,\n",
       " -0.029449463,\n",
       " 0.02998352,\n",
       " 0.040008545,\n",
       " -0.0423584,\n",
       " -0.052734375,\n",
       " -0.019851685,\n",
       " 0.025390625,\n",
       " -0.00831604,\n",
       " 0.018630981,\n",
       " 0.006752014,\n",
       " 0.026779175,\n",
       " -0.011634827,\n",
       " -0.040161133,\n",
       " 0.028137207,\n",
       " 0.008522034,\n",
       " -0.02407837,\n",
       " -0.009750366,\n",
       " 0.0418396,\n",
       " 0.01146698,\n",
       " 0.0473938,\n",
       " 0.03363037,\n",
       " 0.015335083,\n",
       " -0.035736084,\n",
       " 0.04434204,\n",
       " -0.0524292,\n",
       " 0.041809082,\n",
       " -0.0066833496,\n",
       " -0.00793457,\n",
       " -0.032562256,\n",
       " -0.028656006,\n",
       " -0.05596924,\n",
       " 0.050689697,\n",
       " -0.012329102,\n",
       " 0.010131836,\n",
       " -0.03778076,\n",
       " 0.032714844,\n",
       " -0.01626587,\n",
       " 0.010414124,\n",
       " -0.037322998,\n",
       " -0.0390625,\n",
       " 0.06185913,\n",
       " 0.015579224,\n",
       " -0.033355713,\n",
       " 0.0013694763,\n",
       " 0.003917694,\n",
       " 0.017028809,\n",
       " -0.06323242,\n",
       " -0.031677246,\n",
       " -0.005153656,\n",
       " -0.05505371,\n",
       " 0.014678955,\n",
       " 0.0047035217,\n",
       " -0.003156662,\n",
       " 0.020202637,\n",
       " -0.047454834,\n",
       " 0.05908203,\n",
       " -0.019760132,\n",
       " -0.061798096,\n",
       " 0.032318115,\n",
       " -0.0066947937,\n",
       " 0.03527832,\n",
       " 0.101745605,\n",
       " 0.027740479,\n",
       " 0.013183594,\n",
       " 0.011314392,\n",
       " 0.026306152,\n",
       " 0.011383057,\n",
       " 0.044799805,\n",
       " 0.0048179626,\n",
       " -0.013504028,\n",
       " 0.0018253326,\n",
       " 0.02015686,\n",
       " 0.023620605,\n",
       " 0.052825928,\n",
       " 0.007297516,\n",
       " -0.028137207,\n",
       " 0.042816162,\n",
       " -0.050201416,\n",
       " 0.040740967,\n",
       " -0.010757446,\n",
       " 0.033355713,\n",
       " 0.008544922,\n",
       " 0.018371582,\n",
       " 0.07208252,\n",
       " -0.025024414,\n",
       " -0.025436401,\n",
       " -0.035614014,\n",
       " -0.038269043,\n",
       " -0.061279297,\n",
       " -0.04586792,\n",
       " -0.026123047,\n",
       " 0.006011963,\n",
       " 0.028030396,\n",
       " -0.014007568,\n",
       " -0.06512451,\n",
       " 0.0039596558,\n",
       " 0.013580322,\n",
       " 0.031280518,\n",
       " -0.06964111,\n",
       " -0.039276123,\n",
       " 0.010765076,\n",
       " 0.007156372,\n",
       " 0.028381348,\n",
       " 0.013366699,\n",
       " 0.077697754,\n",
       " -0.005126953,\n",
       " -0.031097412,\n",
       " -0.011108398,\n",
       " -0.016830444,\n",
       " -0.006790161,\n",
       " -0.014442444,\n",
       " 0.03652954,\n",
       " -0.04031372,\n",
       " 0.031463623,\n",
       " 0.028030396,\n",
       " -0.027816772,\n",
       " 0.0317688,\n",
       " -0.012680054,\n",
       " -0.005592346,\n",
       " 0.043548584,\n",
       " -0.0013275146,\n",
       " -0.0069084167,\n",
       " -0.027267456,\n",
       " 0.017364502,\n",
       " 0.018798828,\n",
       " 0.026443481,\n",
       " -0.0035762787,\n",
       " 0.03100586,\n",
       " -0.02230835,\n",
       " 0.014831543,\n",
       " -0.013175964,\n",
       " 0.070739746,\n",
       " -0.024536133,\n",
       " 0.018234253,\n",
       " 0.000787735,\n",
       " -0.01838684,\n",
       " -0.012413025,\n",
       " -0.014907837,\n",
       " 0.0390625,\n",
       " -0.029037476,\n",
       " 0.004310608,\n",
       " -0.07019043,\n",
       " -0.05834961,\n",
       " -0.037597656,\n",
       " -0.026870728,\n",
       " -0.01007843,\n",
       " -0.06744385,\n",
       " -0.060424805,\n",
       " 0.048980713,\n",
       " 0.027069092,\n",
       " -0.016799927,\n",
       " 0.04837036,\n",
       " -0.037322998,\n",
       " 0.022766113,\n",
       " -0.03152466,\n",
       " 0.02357483,\n",
       " -0.0418396,\n",
       " -0.022003174,\n",
       " 0.007911682,\n",
       " 0.06567383,\n",
       " -0.014640808,\n",
       " 0.07342529,\n",
       " -0.022506714,\n",
       " -0.053894043,\n",
       " 0.01146698,\n",
       " -0.040649414,\n",
       " -0.03161621,\n",
       " 0.034301758,\n",
       " -0.025558472,\n",
       " -0.04562378,\n",
       " 0.0078125,\n",
       " -0.021514893,\n",
       " -0.037200928,\n",
       " 0.012321472,\n",
       " -0.017089844,\n",
       " -0.004272461,\n",
       " 0.028259277,\n",
       " 0.032470703,\n",
       " -0.019165039,\n",
       " 0.0043411255,\n",
       " 0.056365967,\n",
       " 0.017974854,\n",
       " 0.048980713,\n",
       " -0.0619812,\n",
       " -0.011497498,\n",
       " 0.007949829,\n",
       " 0.04714966,\n",
       " -0.034179688,\n",
       " 0.011062622,\n",
       " -0.0063934326,\n",
       " 0.015823364,\n",
       " -0.0041885376,\n",
       " 0.09490967,\n",
       " -0.0037117004,\n",
       " -0.09295654,\n",
       " 0.028366089,\n",
       " 0.015716553,\n",
       " 0.034179688,\n",
       " 0.04336548,\n",
       " 0.014137268,\n",
       " -0.030548096,\n",
       " -0.0126953125,\n",
       " -0.021591187,\n",
       " 0.026321411,\n",
       " 0.017608643,\n",
       " 0.039276123,\n",
       " -0.025558472,\n",
       " -0.031341553,\n",
       " 0.029724121,\n",
       " 0.027252197,\n",
       " 0.03010559,\n",
       " 0.046966553,\n",
       " -0.04660034,\n",
       " -0.04244995,\n",
       " -0.017410278,\n",
       " -0.003604889,\n",
       " -0.04257202,\n",
       " 0.042938232,\n",
       " 0.021347046,\n",
       " 0.061584473,\n",
       " 0.01574707,\n",
       " -0.025115967,\n",
       " -0.04083252,\n",
       " -0.010269165,\n",
       " 0.009162903,\n",
       " -0.030578613,\n",
       " 0.047851562,\n",
       " -0.009864807,\n",
       " 0.0012674332,\n",
       " 0.008300781,\n",
       " -0.022323608,\n",
       " -0.04156494,\n",
       " -0.007888794,\n",
       " 0.04486084,\n",
       " -0.0018587112,\n",
       " -0.014091492,\n",
       " 0.015487671,\n",
       " 0.084350586,\n",
       " -0.017547607,\n",
       " -0.003967285,\n",
       " -0.016906738,\n",
       " 0.01928711,\n",
       " 0.011634827,\n",
       " -0.00907135,\n",
       " 0.017669678,\n",
       " 0.005191803,\n",
       " -0.024795532,\n",
       " -0.0440979,\n",
       " -0.064575195,\n",
       " -0.01373291,\n",
       " 0.03564453,\n",
       " 0.005531311,\n",
       " -0.032165527,\n",
       " 0.018569946,\n",
       " 0.031021118,\n",
       " 0.0048980713,\n",
       " 0.02330017,\n",
       " 0.036865234,\n",
       " 0.009048462,\n",
       " 0.0038223267,\n",
       " -0.022735596,\n",
       " -0.015731812,\n",
       " 0.10443115,\n",
       " 0.0435791,\n",
       " 0.005168915,\n",
       " 0.020553589,\n",
       " 0.0060653687,\n",
       " -0.045715332,\n",
       " -0.013824463,\n",
       " 0.044952393,\n",
       " -0.036132812,\n",
       " 0.035095215,\n",
       " -0.015274048,\n",
       " 0.00026535988,\n",
       " -0.02645874,\n",
       " -0.043395996,\n",
       " 0.027175903,\n",
       " 0.018966675,\n",
       " 0.027191162,\n",
       " -0.003227234,\n",
       " -0.014259338,\n",
       " 0.07305908,\n",
       " 0.020263672,\n",
       " -0.08569336,\n",
       " 0.003282547,\n",
       " 0.077941895,\n",
       " -0.03036499,\n",
       " 0.031097412,\n",
       " -0.016326904,\n",
       " 0.014450073,\n",
       " 0.05923462,\n",
       " 0.04348755,\n",
       " 0.033172607,\n",
       " -0.029342651,\n",
       " 0.01687622,\n",
       " 0.014465332,\n",
       " -0.044403076,\n",
       " -0.052001953,\n",
       " 0.022201538,\n",
       " -0.061431885,\n",
       " -0.03366089,\n",
       " -0.0073280334,\n",
       " 0.075683594,\n",
       " 0.025466919,\n",
       " 0.004207611,\n",
       " 0.03189087,\n",
       " 0.05770874,\n",
       " 0.009643555,\n",
       " -0.022354126,\n",
       " -0.008682251,\n",
       " 0.017578125,\n",
       " -0.05178833,\n",
       " -0.03161621,\n",
       " -0.0009293556,\n",
       " 0.008026123,\n",
       " 0.07098389,\n",
       " -0.09051514,\n",
       " 0.0012989044,\n",
       " -0.019592285,\n",
       " -0.015319824,\n",
       " -0.057525635,\n",
       " 0.016403198,\n",
       " -0.030914307,\n",
       " -0.033111572,\n",
       " -0.01687622,\n",
       " -0.002506256,\n",
       " 0.01247406,\n",
       " 0.042114258,\n",
       " 0.0010671616,\n",
       " 0.009124756,\n",
       " -0.004383087,\n",
       " -0.011497498,\n",
       " -0.020263672,\n",
       " -0.00018894672,\n",
       " 0.053466797,\n",
       " -0.074523926,\n",
       " -0.05456543,\n",
       " -0.040740967,\n",
       " 0.033081055,\n",
       " 0.03074646,\n",
       " -0.004371643,\n",
       " 0.020462036,\n",
       " 0.002981186,\n",
       " -0.05090332,\n",
       " 0.009010315,\n",
       " 0.02355957,\n",
       " -0.1003418,\n",
       " -0.008590698,\n",
       " 0.054992676,\n",
       " 0.029403687,\n",
       " 0.018325806,\n",
       " -0.019119263,\n",
       " -0.028137207,\n",
       " -0.055511475,\n",
       " -0.026763916,\n",
       " -0.04257202,\n",
       " 0.011154175,\n",
       " 0.013389587,\n",
       " 0.015304565,\n",
       " 0.04220581,\n",
       " -0.023284912,\n",
       " -0.05496216,\n",
       " -0.026947021,\n",
       " -0.035339355,\n",
       " -0.06323242,\n",
       " -0.024490356,\n",
       " -0.010887146,\n",
       " 0.04257202,\n",
       " -0.03640747,\n",
       " -0.02168274,\n",
       " 0.047576904,\n",
       " -0.06286621,\n",
       " 0.029891968,\n",
       " -0.011451721,\n",
       " 0.007385254,\n",
       " 0.013305664,\n",
       " -0.014091492,\n",
       " 0.007904053,\n",
       " 0.0259552,\n",
       " 0.008995056,\n",
       " -0.029190063,\n",
       " 0.061767578,\n",
       " 0.0287323,\n",
       " 0.02331543,\n",
       " 0.05834961,\n",
       " 0.004501343,\n",
       " -0.01612854,\n",
       " 0.024047852,\n",
       " -0.042297363,\n",
       " 0.072509766,\n",
       " -0.025390625,\n",
       " -0.05206299,\n",
       " -0.01991272,\n",
       " -0.012779236,\n",
       " 0.087524414,\n",
       " -0.072509766,\n",
       " -0.0030269623,\n",
       " -0.039855957,\n",
       " 0.018798828,\n",
       " -0.055267334,\n",
       " -0.0009422302,\n",
       " -0.03024292,\n",
       " -0.004875183,\n",
       " 0.019424438,\n",
       " 0.07623291,\n",
       " 0.033691406,\n",
       " -0.026641846,\n",
       " 0.02368164,\n",
       " 0.03540039,\n",
       " 0.044311523,\n",
       " 0.0012187958,\n",
       " 0.046783447,\n",
       " 0.037841797,\n",
       " -0.01222229,\n",
       " -0.0076065063,\n",
       " 0.045196533,\n",
       " 0.0385437,\n",
       " 0.03781128,\n",
       " 0.025680542,\n",
       " 0.030426025,\n",
       " 0.0012702942,\n",
       " 0.01184082,\n",
       " -0.022033691,\n",
       " -0.08312988,\n",
       " 0.014335632,\n",
       " -0.006263733,\n",
       " 0.031341553,\n",
       " -0.037841797,\n",
       " -0.0029830933,\n",
       " 0.029754639,\n",
       " -0.024490356,\n",
       " -0.013633728,\n",
       " 0.021438599,\n",
       " -0.078063965,\n",
       " 0.015563965,\n",
       " 0.07220459,\n",
       " -0.019363403,\n",
       " -0.016830444,\n",
       " 0.025177002,\n",
       " -0.003829956,\n",
       " 0.010902405,\n",
       " 0.049987793,\n",
       " 0.031066895,\n",
       " 0.005115509,\n",
       " 0.021331787,\n",
       " -0.02394104,\n",
       " 0.017303467,\n",
       " -0.009971619,\n",
       " 0.009483337,\n",
       " 0.021118164,\n",
       " -0.041748047,\n",
       " 0.024642944,\n",
       " -0.042144775,\n",
       " 0.032287598,\n",
       " -0.012779236,\n",
       " -0.014846802,\n",
       " -0.030426025,\n",
       " 0.0037517548,\n",
       " -0.039733887,\n",
       " -0.004558563,\n",
       " 0.018203735,\n",
       " -0.027572632,\n",
       " -0.033813477,\n",
       " -0.062561035,\n",
       " 0.041015625,\n",
       " -0.020431519,\n",
       " 0.029785156,\n",
       " 0.0012559891,\n",
       " 0.04486084,\n",
       " 0.00258255,\n",
       " 0.0602417,\n",
       " 0.033569336,\n",
       " 0.0024147034,\n",
       " 0.010093689,\n",
       " -0.000834465,\n",
       " 0.0127334595,\n",
       " 0.056152344,\n",
       " -0.0034332275,\n",
       " 0.004360199,\n",
       " 0.048431396,\n",
       " 0.017211914,\n",
       " -0.028015137,\n",
       " -0.05529785,\n",
       " -0.02267456,\n",
       " -0.0013589859,\n",
       " 0.053863525,\n",
       " -0.029815674,\n",
       " -0.0803833,\n",
       " -0.00072717667,\n",
       " -0.0037250519,\n",
       " -0.012954712,\n",
       " -0.0017223358,\n",
       " -0.020523071,\n",
       " 0.03552246,\n",
       " 0.010848999,\n",
       " 0.022476196,\n",
       " -0.012901306,\n",
       " -0.05493164,\n",
       " -0.026550293,\n",
       " -0.03491211,\n",
       " 0.020965576,\n",
       " -0.05328369,\n",
       " -0.061645508,\n",
       " -0.043884277,\n",
       " -0.029067993,\n",
       " -0.04168701,\n",
       " 0.020767212,\n",
       " 0.015525818,\n",
       " -0.019195557,\n",
       " -0.019836426,\n",
       " -0.050109863,\n",
       " -0.02305603,\n",
       " 0.03942871,\n",
       " 0.029190063,\n",
       " -0.05819702,\n",
       " 0.008285522,\n",
       " -0.008117676,\n",
       " -0.0021705627,\n",
       " 0.030929565,\n",
       " 0.019317627,\n",
       " 0.037322998,\n",
       " 0.0101623535,\n",
       " 0.05343628,\n",
       " 0.06463623,\n",
       " 0.0048103333,\n",
       " 0.03555298,\n",
       " -0.026535034,\n",
       " 0.003118515,\n",
       " -0.0021591187,\n",
       " -0.0138549805,\n",
       " -0.027526855,\n",
       " -0.0043411255,\n",
       " -0.028808594]"
      ]
     },
     "execution_count": 22,
     "metadata": {},
     "output_type": "execute_result"
    }
   ],
   "source": [
    "from langchain_nomic import NomicEmbeddings\n",
    "\n",
    "embeddings = NomicEmbeddings(\n",
    "    model=\"nomic-embed-text-v1.5\"\n",
    ")\n",
    "\n",
    "embeddings.embed_query(\"Hola Python!!!\")"
   ]
  },
  {
   "cell_type": "markdown",
   "metadata": {},
   "source": [
    "Almacenaremos los embeddings procesados en Chroma para poder recuperarlos más adelante.\n",
    "\n",
    "Pueden revisar la documentación de Chroma en https://www.trychroma.com/ y la integración con LangChain en https://python.langchain.com/v0.2/docs/integrations/vectorstores/chroma/"
   ]
  },
  {
   "cell_type": "code",
   "execution_count": 23,
   "metadata": {},
   "outputs": [
    {
     "data": {
      "text/plain": [
       "<langchain_chroma.vectorstores.Chroma at 0x11397a480>"
      ]
     },
     "execution_count": 23,
     "metadata": {},
     "output_type": "execute_result"
    }
   ],
   "source": [
    "from langchain_chroma import Chroma\n",
    "from langchain_nomic import NomicEmbeddings\n",
    "\n",
    "embedding = NomicEmbeddings(\n",
    "    model=\"nomic-embed-text-v1.5\"\n",
    ")\n",
    "\n",
    "vectorstore = Chroma.from_documents(documents=all_splits, embedding=embedding)\n",
    "\n",
    "vectorstore"
   ]
  },
  {
   "cell_type": "markdown",
   "metadata": {},
   "source": [
    "El Retriever nos permitirá recuperar la información almacenada en nuestro Vector Store.\n",
    "\n",
    "Por debajo trasnforma la pregunta del usuario en un vector y busca los vectores más cercanos en la base de datos vectorial."
   ]
  },
  {
   "cell_type": "code",
   "execution_count": 24,
   "metadata": {},
   "outputs": [
    {
     "data": {
      "text/plain": [
       "[Document(metadata={'language': 'es', 'source': 'https://gist.githubusercontent.com/willywg/25d405b96e8741979dee7382d3f84865/raw/648e29dcf9936333744249a76c75232c403704dd/envios_preguntas.html', 'title': 'Preguntas Frecuentes - Shalom'}, page_content='¿Cuáles son los medios para realizar el pago de mi envío?\\nShalom pone a su disposición nuestras 3 plataformas donde puede realizar el pago de sus envíos.'),\n",
       " Document(metadata={'language': 'es', 'source': 'https://gist.githubusercontent.com/willywg/25d405b96e8741979dee7382d3f84865/raw/648e29dcf9936333744249a76c75232c403704dd/envios_preguntas.html', 'title': 'Preguntas Frecuentes - Shalom'}, page_content='Página web: https://pagalo.shalom.pe\\nApp Shalom: https://apple.co/3YNs2AK / https://cutt.ly/bXjJyz\\nShalom Pro: https://pro.shalom.pe\\n\\nRecuerda que puedes realizar tus pagos con cualquiera de estos métodos:\\n\\nBilletera digital: Yape, Plin, Lukita, Tunki\\nTarjeta\\nEfectivo *En cualquiera de nuestras oficinas*\\nPagos en Agencia, recuerda que puedes solicitar tu QR al counter para efectuar el pago *Recuerda que este QR solo es para tu pago presencial*'),\n",
       " Document(metadata={'language': 'es', 'source': 'https://gist.githubusercontent.com/willywg/25d405b96e8741979dee7382d3f84865/raw/648e29dcf9936333744249a76c75232c403704dd/envios_preguntas.html', 'title': 'Preguntas Frecuentes - Shalom'}, page_content='¿Dónde puedo actualizar mi clave de seguridad?\\nRecuerda que solo el remitente puede solicitar la actualización de clave de seguridad vía online en nuestra página web: https://actualizaclave.shalom.pe y por medio de nuestra App Shalom disponible en Google Play y App Store. Recuerda que es importante que tu número de teléfono esté registrado en el Ticket Shalom para poder validar tus datos y actualizar tu clave.\\n¿Cuáles son los medios para realizar el pago de mi envío?'),\n",
       " Document(metadata={'language': 'es', 'source': 'https://gist.githubusercontent.com/willywg/25d405b96e8741979dee7382d3f84865/raw/648e29dcf9936333744249a76c75232c403704dd/envios_preguntas.html', 'title': 'Preguntas Frecuentes - Shalom'}, page_content='Queda en potestad de Shalom decidir qué artículos puede transportar. Asimismo, LA EMPRESA restringe el transporte de material con contenido pornográfico, animales vivos o muertos, restos humanos, objetos de valor (joyas, metales y piedras preciosas, oro, plata de cualquier forma), dinero tangible (billetes, monedas, tarjetas de crédito y cheques de viaje abierto). No aceptamos trasladar frutas y/o vegetales sometidos a control de SENASA. Shalom está obligada a restringir el envío y/o traslado')]"
      ]
     },
     "execution_count": 24,
     "metadata": {},
     "output_type": "execute_result"
    }
   ],
   "source": [
    "retriever = vectorstore.as_retriever(k=5)\n",
    "docs = retriever.invoke(\"Que medios de pago tienen?\")\n",
    "\n",
    "docs"
   ]
  },
  {
   "cell_type": "markdown",
   "metadata": {},
   "source": [
    "### Chatbot con RAG\n",
    "\n",
    "Finalmente, usaremos el modelo de RAG para recuperar la información relevante de la base de datos vectorial y agregarla al Prompt del Chatbot."
   ]
  },
  {
   "cell_type": "code",
   "execution_count": 25,
   "metadata": {},
   "outputs": [],
   "source": [
    "from langchain_core.prompts import ChatPromptTemplate, MessagesPlaceholder\n",
    "from langchain.memory import ChatMessageHistory\n",
    "from langchain_groq import ChatGroq\n",
    "from dotenv import load_dotenv\n",
    "from langchain.chains.combine_documents import create_stuff_documents_chain\n",
    "\n",
    "load_dotenv(override=True) \n",
    "\n",
    "llm = ChatGroq(\n",
    "    temperature=1.0,\n",
    "    model=\"llama-3.1-8b-instant\",\n",
    ")\n",
    "\n",
    "prompt = ChatPromptTemplate.from_messages([\n",
    "    (\"system\", \"Eres un asistente virtual. Tu nombre es {assistant_name} y trabajas en {company}. {description}. Usa las siguiente referencias como guía para tus respuestas: {context}\"),\n",
    "    MessagesPlaceholder(variable_name=\"messages\"),\n",
    "])\n",
    "\n",
    "chat_history = ChatMessageHistory()\n",
    "\n",
    "retriever = vectorstore.as_retriever(k=5)\n"
   ]
  },
  {
   "cell_type": "code",
   "execution_count": 26,
   "metadata": {},
   "outputs": [
    {
     "data": {
      "text/plain": [
       "[HumanMessage(content='Hola, ¿Que debo presentar para recoger un envio?'),\n",
       " AIMessage(content='Hola, soy Azzy, tu asistente virtual de Shalom. Para recoger tu envío, debes presentar los siguientes documentos y realizar los siguientes pasos:\\n\\n* Si eres una persona natural, debes presentar tu DNI original y digitar la clave de seguridad.\\n* Si eres una empresa, puedes seguir estos pasos:\\n + Debes tener el contacto registrado en el ticket OS Shalom. En ese caso, debes presentar tu DNI original y digitar la clave de seguridad.\\n + Si no tienes el contacto registrado, debes presentar una carta membretada debidamente firmada por el representante legal, copia de DNI, tu DNI original y digitar la clave de seguridad por tu parte.\\n\\nRecuerda verificar la información antes de presentarte para recoger tu envío. ¡Espero que todo salga bien!')]"
      ]
     },
     "execution_count": 26,
     "metadata": {},
     "output_type": "execute_result"
    }
   ],
   "source": [
    "def send_question(question):\n",
    "    chat_history.add_user_message(question)\n",
    "    docs = retriever.invoke(question)\n",
    "\n",
    "    chain = create_stuff_documents_chain(llm, prompt)\n",
    "\n",
    "    ai_response = chain.invoke({\n",
    "        \"assistant_name\": \"Azzy\",\n",
    "        \"company\": \"Shalom\",\n",
    "        \"description\": \"Shalom es unna empresa de courier. Solo hacen envios a Piura, Lima y Chiclayo\",\n",
    "        \"messages\": chat_history.messages,\n",
    "        \"context\": docs\n",
    "    })\n",
    "\n",
    "    chat_history.add_ai_message(ai_response)\n",
    "    return chat_history.messages\n",
    "\n",
    "question = \"Hola, ¿Que debo presentar para recoger un envio?\"\n",
    "send_question(question)"
   ]
  },
  {
   "cell_type": "code",
   "execution_count": 27,
   "metadata": {},
   "outputs": [
    {
     "data": {
      "text/plain": [
       "[HumanMessage(content='Hola, ¿Que debo presentar para recoger un envio?'),\n",
       " AIMessage(content='Hola, soy Azzy, tu asistente virtual de Shalom. Para recoger tu envío, debes presentar los siguientes documentos y realizar los siguientes pasos:\\n\\n* Si eres una persona natural, debes presentar tu DNI original y digitar la clave de seguridad.\\n* Si eres una empresa, puedes seguir estos pasos:\\n + Debes tener el contacto registrado en el ticket OS Shalom. En ese caso, debes presentar tu DNI original y digitar la clave de seguridad.\\n + Si no tienes el contacto registrado, debes presentar una carta membretada debidamente firmada por el representante legal, copia de DNI, tu DNI original y digitar la clave de seguridad por tu parte.\\n\\nRecuerda verificar la información antes de presentarte para recoger tu envío. ¡Espero que todo salga bien!'),\n",
       " HumanMessage(content='Gracias ... y ¿que medios de pago tienen?'),\n",
       " AIMessage(content='¡De nada! En Shalom, podemos realizar pagos de envíos de manera fácil y segura. Tenemos tres opciones para pagar tus envíos:\\n\\n1. Puedes pagar en línea a través de:\\n * Nuestra página web: https://pagalo.shalom.pe\\n * Nuestra app Shalom: puedes descargarla en Apple App Store o Google Play Store\\n * Shalom Pro: https://pro.shalom.pe\\n2. También puedes pagar con tu billetera digital: Yape, Plin, Lukita, Tunki, entre otros.\\n\\n3. Si deseas pagar con efectivo, solo tienes que visitar una de nuestras oficinas en Lima, Piura o Chiclayo. Esto incluye también pagos en agencia, solo disponible para pagos sin QR; puedes solictar el QR al counter, pero recordarás que son solo para reemplazo presencial.\\n\\nCon cualquiera de estos métodos, podrás pagar tus envíos de manera rápida y segura. ¡Si necesitas ayuda, no dudes en preguntar!')]"
      ]
     },
     "execution_count": 27,
     "metadata": {},
     "output_type": "execute_result"
    }
   ],
   "source": [
    "send_question(\"Gracias ... y ¿que medios de pago tienen?\")"
   ]
  },
  {
   "cell_type": "markdown",
   "metadata": {},
   "source": [
    "### Gracias\n",
    "\n",
    "Espero que esta charla les haya sido de ayuda. Si tienen alguna pregunta, no duden en contactarme en LinkedIn: https://www.linkedin.com/in/willywg/\n",
    "\n",
    "También pueden agregame en GitHub: https://github.com/willywg"
   ]
  },
  {
   "cell_type": "markdown",
   "metadata": {},
   "source": []
  }
 ],
 "metadata": {
  "kernelspec": {
   "display_name": "langchain",
   "language": "python",
   "name": "python3"
  },
  "language_info": {
   "codemirror_mode": {
    "name": "ipython",
    "version": 3
   },
   "file_extension": ".py",
   "mimetype": "text/x-python",
   "name": "python",
   "nbconvert_exporter": "python",
   "pygments_lexer": "ipython3",
   "version": "3.12.4"
  }
 },
 "nbformat": 4,
 "nbformat_minor": 2
}
